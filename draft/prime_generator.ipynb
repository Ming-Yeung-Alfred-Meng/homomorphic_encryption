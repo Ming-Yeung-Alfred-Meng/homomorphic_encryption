{
 "cells": [
  {
   "cell_type": "code",
   "execution_count": null,
   "outputs": [],
   "source": [
    "import sympy\n",
    "import random"
   ],
   "metadata": {
    "collapsed": false
   },
   "id": "3fa9a5debfd6b1d3"
  },
  {
   "cell_type": "code",
   "execution_count": 8,
   "id": "initial_id",
   "metadata": {
    "collapsed": true,
    "ExecuteTime": {
     "end_time": "2023-12-01T21:37:19.498681Z",
     "start_time": "2023-12-01T21:37:17.032245Z"
    }
   },
   "outputs": [
    {
     "name": "stdout",
     "output_type": "stream",
     "text": [
      "Large prime with p mod 4 = 3: 11032839525524516062991908668254811450276765146946825078926594396287361574862350025786223866194209973365843852235989093198805475543099491889821540455349654282232584735228897258939316391458000900142927566884128137160805947986313403859054873408639771950527474024488195168540397480402655211121259120345834278519\n"
     ]
    }
   ],
   "source": [
    "def generate_large_prime():\n",
    "    while True:\n",
    "        candidate = random.getrandbits(1024)  # You can adjust the bit size as needed\n",
    "\n",
    "        if candidate % 2 == 1 and candidate % 4 == 3:\n",
    "            if sympy.isprime(candidate):\n",
    "                return candidate\n"
   ]
  },
  {
   "cell_type": "code",
   "execution_count": 10,
   "outputs": [
    {
     "name": "stdout",
     "output_type": "stream",
     "text": [
      "prime1 : 6783125127892101682334925259563020706546873498929524878008226939045544957783282313909778684328165552698386350343760977884924365961090632612986499204120349321923328732186765960474328145145130307602402710289026384982636179909533031335910359924376610077237184100647026445452433120348021041265535327340022488027\n",
      "prime2 : 153777317190968547161838633432481622477555156457506459703629806799158030781882257216542965691354641974739160843578001591265300824470022816862725619103004880711694048732510601630178822967590568086556773792970858173404381451367798210751461899642143393053277748608199111196926502968484163054850592348746177656511\n",
      "N : 1043090784337892813091166633962471029385704971115297332375025502409975904754284294890216768165427261627990298903013390565512991790666901566882361922942445346994193714810638676052561993553670137632674397915976537602183638454151579518206767643971866695079945863491394283386765506095957083429604521674284007659093454519660036294597425790511478834536038688932723567977508217550047922141347089594271966606006162479662834359273906615618906681938692078682845017401336325664608674624543438785439256759959977265542889334436257989070058625023690379135165137049757557898482021776844353173297103234964253148147064770026416093797\n"
     ]
    }
   ],
   "source": [
    "prime1 = generate_large_prime()\n",
    "prime2 = generate_large_prime()\n",
    "N = prime1 * prime2\n",
    "print(f\"prime1 : {prime1}\\n\"\n",
    "      f\"prime2 : {prime2}\\n\"\n",
    "      f\"N : {N}\")"
   ],
   "metadata": {
    "collapsed": false,
    "ExecuteTime": {
     "end_time": "2023-12-01T21:38:58.679870Z",
     "start_time": "2023-12-01T21:38:58.049304Z"
    }
   },
   "id": "1b5b4284c5e46d7"
  },
  {
   "cell_type": "code",
   "execution_count": 13,
   "outputs": [],
   "source": [
    "import math\n",
    "from fractions import *\n",
    "\n",
    "x = Fraction(math.pi)"
   ],
   "metadata": {
    "collapsed": false,
    "ExecuteTime": {
     "end_time": "2023-12-01T21:42:57.029315Z",
     "start_time": "2023-12-01T21:42:57.014091Z"
    }
   },
   "id": "2b616b54e4f1cc8c"
  },
  {
   "cell_type": "code",
   "execution_count": 17,
   "outputs": [
    {
     "data": {
      "text/plain": "(Fraction(884279719003555, 281474976710656), 281474976710656, int)"
     },
     "execution_count": 17,
     "metadata": {},
     "output_type": "execute_result"
    }
   ],
   "source": [
    "x, x.denominator, x.denominator"
   ],
   "metadata": {
    "collapsed": false,
    "ExecuteTime": {
     "end_time": "2023-12-01T21:43:24.941267Z",
     "start_time": "2023-12-01T21:43:24.897100Z"
    }
   },
   "id": "9616f61b6e78f781"
  },
  {
   "cell_type": "code",
   "execution_count": 68,
   "outputs": [
    {
     "data": {
      "text/plain": "(281474976710656, '0b1000000000000000000000000000000000000000000000000')"
     },
     "execution_count": 68,
     "metadata": {},
     "output_type": "execute_result"
    }
   ],
   "source": [
    "bitmask = 0xFFFFFFFFFFFFFFFF  # Hexadecimal representation of 24 bits set to 1\n",
    "# Use bitwise AND to keep only the first 24 bits\n",
    "result = x.denominator & bitmask\n",
    "binary = bin(result)\n",
    "result, binary"
   ],
   "metadata": {
    "collapsed": false,
    "ExecuteTime": {
     "end_time": "2023-12-01T21:57:56.073193Z",
     "start_time": "2023-12-01T21:57:56.056751Z"
    }
   },
   "id": "3b2dcdc1e62f3180"
  },
  {
   "cell_type": "code",
   "execution_count": 112,
   "outputs": [
    {
     "data": {
      "text/plain": "'0b1000000000000000000000000'"
     },
     "execution_count": 112,
     "metadata": {},
     "output_type": "execute_result"
    }
   ],
   "source": [
    "bin(1 << 24)"
   ],
   "metadata": {
    "collapsed": false,
    "ExecuteTime": {
     "end_time": "2023-12-01T22:21:03.348561Z",
     "start_time": "2023-12-01T22:21:03.215410Z"
    }
   },
   "id": "6e9589728159488f"
  },
  {
   "cell_type": "code",
   "execution_count": 117,
   "outputs": [
    {
     "data": {
      "text/plain": "'0b11111111111111111111111100000000000000000000000000'"
     },
     "execution_count": 117,
     "metadata": {},
     "output_type": "execute_result"
    }
   ],
   "source": [
    "bin(0xFFFFFF << 26)"
   ],
   "metadata": {
    "collapsed": false,
    "ExecuteTime": {
     "end_time": "2023-12-01T22:24:32.398235Z",
     "start_time": "2023-12-01T22:24:32.331929Z"
    }
   },
   "id": "7917e3e5b03d90a0"
  },
  {
   "cell_type": "code",
   "execution_count": 134,
   "outputs": [
    {
     "data": {
      "text/plain": "(1125899839733760, '0b11111111111111111111111100000000000000000000000000')"
     },
     "execution_count": 134,
     "metadata": {},
     "output_type": "execute_result"
    }
   ],
   "source": [
    "p = 24\n",
    "N = len(bin(x.numerator)[2:])\n",
    "mask = (1 << p) - 1\n",
    "mask = mask << (N - p)\n",
    "mask, bin(mask)"
   ],
   "metadata": {
    "collapsed": false,
    "ExecuteTime": {
     "end_time": "2023-12-01T22:43:15.756757Z",
     "start_time": "2023-12-01T22:43:15.696092Z"
    }
   },
   "id": "12bffb906cc1cf65"
  },
  {
   "cell_type": "code",
   "execution_count": 135,
   "outputs": [
    {
     "data": {
      "text/plain": "(884279719003555, '0b11001001000011111101101010100010001000010110100011')"
     },
     "execution_count": 135,
     "metadata": {},
     "output_type": "execute_result"
    }
   ],
   "source": [
    "x.numerator, bin(x.numerator)"
   ],
   "metadata": {
    "collapsed": false,
    "ExecuteTime": {
     "end_time": "2023-12-01T22:43:16.145409Z",
     "start_time": "2023-12-01T22:43:16.116290Z"
    }
   },
   "id": "e7b51c6dd1511f9c"
  },
  {
   "cell_type": "code",
   "execution_count": 138,
   "outputs": [
    {
     "data": {
      "text/plain": "(884279676502016, '0b11001001000011111101101000000000000000000000000000')"
     },
     "execution_count": 138,
     "metadata": {},
     "output_type": "execute_result"
    }
   ],
   "source": [
    "x.numerator & mask, bin(x.numerator & mask)"
   ],
   "metadata": {
    "collapsed": false,
    "ExecuteTime": {
     "end_time": "2023-12-01T22:43:29.816464Z",
     "start_time": "2023-12-01T22:43:29.769332Z"
    }
   },
   "id": "561564eb56f2942e"
  },
  {
   "cell_type": "code",
   "execution_count": 104,
   "outputs": [
    {
     "data": {
      "text/plain": "884279676502016"
     },
     "execution_count": 104,
     "metadata": {},
     "output_type": "execute_result"
    }
   ],
   "source": [
    "x.numerator & 0b11111111111111111111111100000000000000000000000000"
   ],
   "metadata": {
    "collapsed": false,
    "ExecuteTime": {
     "end_time": "2023-12-01T22:10:53.314044Z",
     "start_time": "2023-12-01T22:10:53.250512Z"
    }
   },
   "id": "987100bbba5cdfe"
  },
  {
   "cell_type": "code",
   "execution_count": 102,
   "outputs": [
    {
     "data": {
      "text/plain": "'0b11001001000011111101101000000000000000000000000000'"
     },
     "execution_count": 102,
     "metadata": {},
     "output_type": "execute_result"
    }
   ],
   "source": [
    "bin(x.numerator & 0b11111111111111111111111100000000000000000000000000)"
   ],
   "metadata": {
    "collapsed": false,
    "ExecuteTime": {
     "end_time": "2023-12-01T22:10:19.532692Z",
     "start_time": "2023-12-01T22:10:19.516421Z"
    }
   },
   "id": "41bb7e87c68e485"
  },
  {
   "cell_type": "code",
   "execution_count": 123,
   "outputs": [
    {
     "data": {
      "text/plain": "'0b11001001000011111101101000000000000000000000000000'"
     },
     "execution_count": 123,
     "metadata": {},
     "output_type": "execute_result"
    }
   ],
   "source": [
    "bin(x.numerator & (0xFFFFFF << 26))"
   ],
   "metadata": {
    "collapsed": false,
    "ExecuteTime": {
     "end_time": "2023-12-01T22:26:42.924218Z",
     "start_time": "2023-12-01T22:26:42.904285Z"
    }
   },
   "id": "272404c2a4f0fdf7"
  },
  {
   "cell_type": "code",
   "execution_count": 79,
   "outputs": [
    {
     "data": {
      "text/plain": "281474976710656"
     },
     "execution_count": 79,
     "metadata": {},
     "output_type": "execute_result"
    }
   ],
   "source": [
    "int(bin(x.denominator & 0xFFFFFF0000000000), 2)"
   ],
   "metadata": {
    "collapsed": false,
    "ExecuteTime": {
     "end_time": "2023-12-01T22:00:52.006413Z",
     "start_time": "2023-12-01T22:00:51.909237Z"
    }
   },
   "id": "3417c03380f7e04f"
  },
  {
   "cell_type": "code",
   "execution_count": 65,
   "outputs": [
    {
     "data": {
      "text/plain": "('0b110110101010110110111100', 14331324)"
     },
     "execution_count": 65,
     "metadata": {},
     "output_type": "execute_result"
    }
   ],
   "source": [
    "result = bin(0b110110101010110110111100 & 0xFFFFFFF)\n",
    "result, int(result, 2)"
   ],
   "metadata": {
    "collapsed": false,
    "ExecuteTime": {
     "end_time": "2023-12-01T21:55:34.125875Z",
     "start_time": "2023-12-01T21:55:34.053657Z"
    }
   },
   "id": "36c600957a8b436f"
  },
  {
   "cell_type": "code",
   "execution_count": 58,
   "outputs": [
    {
     "data": {
      "text/plain": "'0b110110101010110110110000'"
     },
     "execution_count": 58,
     "metadata": {},
     "output_type": "execute_result"
    }
   ],
   "source": [
    "result"
   ],
   "metadata": {
    "collapsed": false,
    "ExecuteTime": {
     "end_time": "2023-12-01T21:53:23.529134Z",
     "start_time": "2023-12-01T21:53:23.461597Z"
    }
   },
   "id": "30a8c72beec8c044"
  },
  {
   "cell_type": "code",
   "execution_count": 56,
   "outputs": [
    {
     "data": {
      "text/plain": "14331324"
     },
     "execution_count": 56,
     "metadata": {},
     "output_type": "execute_result"
    }
   ],
   "source": [
    "0b110110101010110110111100"
   ],
   "metadata": {
    "collapsed": false,
    "ExecuteTime": {
     "end_time": "2023-12-01T21:53:16.516104Z",
     "start_time": "2023-12-01T21:53:16.486152Z"
    }
   },
   "id": "f1d9a49e8f6d4d99"
  },
  {
   "cell_type": "code",
   "execution_count": 139,
   "outputs": [
    {
     "data": {
      "text/plain": "int"
     },
     "execution_count": 139,
     "metadata": {},
     "output_type": "execute_result"
    }
   ],
   "source": [
    "type(0b110110101010110110111100)"
   ],
   "metadata": {
    "collapsed": false,
    "ExecuteTime": {
     "end_time": "2023-12-02T01:15:37.318761Z",
     "start_time": "2023-12-02T01:15:37.298476Z"
    }
   },
   "id": "39b6588e0200591e"
  },
  {
   "cell_type": "code",
   "execution_count": 140,
   "outputs": [
    {
     "data": {
      "text/plain": "'0b110110101010110110111100'"
     },
     "execution_count": 140,
     "metadata": {},
     "output_type": "execute_result"
    }
   ],
   "source": [
    "bin(0b110110101010110110111100)"
   ],
   "metadata": {
    "collapsed": false,
    "ExecuteTime": {
     "end_time": "2023-12-02T01:16:11.874631Z",
     "start_time": "2023-12-02T01:16:11.815878Z"
    }
   },
   "id": "7607e7da75842fc5"
  },
  {
   "cell_type": "code",
   "execution_count": 141,
   "outputs": [
    {
     "data": {
      "text/plain": "str"
     },
     "execution_count": 141,
     "metadata": {},
     "output_type": "execute_result"
    }
   ],
   "source": [
    "type(bin(0b110110101010110110111100))"
   ],
   "metadata": {
    "collapsed": false,
    "ExecuteTime": {
     "end_time": "2023-12-02T01:16:18.522088Z",
     "start_time": "2023-12-02T01:16:18.240409Z"
    }
   },
   "id": "265c8ccf4930d48d"
  },
  {
   "cell_type": "code",
   "execution_count": 149,
   "outputs": [
    {
     "data": {
      "text/plain": "27"
     },
     "execution_count": 149,
     "metadata": {},
     "output_type": "execute_result"
    }
   ],
   "source": [
    "0b11011"
   ],
   "metadata": {
    "collapsed": false,
    "ExecuteTime": {
     "end_time": "2023-12-02T01:17:38.162749Z",
     "start_time": "2023-12-02T01:17:38.104183Z"
    }
   },
   "id": "7db332b3acea881e"
  },
  {
   "cell_type": "code",
   "execution_count": 150,
   "outputs": [
    {
     "data": {
      "text/plain": "27"
     },
     "execution_count": 150,
     "metadata": {},
     "output_type": "execute_result"
    }
   ],
   "source": [
    "0b11011 & 0b11111"
   ],
   "metadata": {
    "collapsed": false,
    "ExecuteTime": {
     "end_time": "2023-12-02T01:17:50.542932Z",
     "start_time": "2023-12-02T01:17:50.519784Z"
    }
   },
   "id": "e75172b9d5a3032f"
  },
  {
   "cell_type": "code",
   "execution_count": 151,
   "outputs": [
    {
     "data": {
      "text/plain": "'0b11011'"
     },
     "execution_count": 151,
     "metadata": {},
     "output_type": "execute_result"
    }
   ],
   "source": [
    "bin(0b11011 & 0b11111)"
   ],
   "metadata": {
    "collapsed": false,
    "ExecuteTime": {
     "end_time": "2023-12-02T01:17:58.862125Z",
     "start_time": "2023-12-02T01:17:58.831557Z"
    }
   },
   "id": "a9a60baafb8d2b9"
  },
  {
   "cell_type": "code",
   "execution_count": 153,
   "outputs": [
    {
     "data": {
      "text/plain": "27"
     },
     "execution_count": 153,
     "metadata": {},
     "output_type": "execute_result"
    }
   ],
   "source": [
    "eval(bin(0b11011 & 0b11111))"
   ],
   "metadata": {
    "collapsed": false,
    "ExecuteTime": {
     "end_time": "2023-12-02T01:19:39.860451Z",
     "start_time": "2023-12-02T01:19:39.793831Z"
    }
   },
   "id": "e644fc8addcd8ee7"
  },
  {
   "cell_type": "code",
   "execution_count": 154,
   "outputs": [
    {
     "data": {
      "text/plain": "27"
     },
     "execution_count": 154,
     "metadata": {},
     "output_type": "execute_result"
    }
   ],
   "source": [],
   "metadata": {
    "collapsed": false,
    "ExecuteTime": {
     "end_time": "2023-12-02T01:19:57.948838Z",
     "start_time": "2023-12-02T01:19:57.900653Z"
    }
   },
   "id": "685bcee3b0eac050"
  },
  {
   "cell_type": "code",
   "execution_count": null,
   "outputs": [],
   "source": [],
   "metadata": {
    "collapsed": false
   },
   "id": "20d76a13cd0776b5"
  }
 ],
 "metadata": {
  "kernelspec": {
   "display_name": "Python 3",
   "language": "python",
   "name": "python3"
  },
  "language_info": {
   "codemirror_mode": {
    "name": "ipython",
    "version": 2
   },
   "file_extension": ".py",
   "mimetype": "text/x-python",
   "name": "python",
   "nbconvert_exporter": "python",
   "pygments_lexer": "ipython2",
   "version": "2.7.6"
  }
 },
 "nbformat": 4,
 "nbformat_minor": 5
}

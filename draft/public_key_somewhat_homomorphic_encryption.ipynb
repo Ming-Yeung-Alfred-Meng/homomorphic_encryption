{
 "cells": [
  {
   "cell_type": "code",
   "execution_count": 7,
   "id": "initial_id",
   "metadata": {
    "collapsed": true,
    "ExecuteTime": {
     "end_time": "2023-12-01T23:38:31.923098Z",
     "start_time": "2023-12-01T23:38:30.607919Z"
    }
   },
   "outputs": [],
   "source": [
    "import random\n",
    "import math\n",
    "import numpy as np"
   ]
  },
  {
   "cell_type": "markdown",
   "source": [
    "#### Parameters"
   ],
   "metadata": {
    "collapsed": false
   },
   "id": "9405e2280a38a813"
  },
  {
   "cell_type": "code",
   "execution_count": 5,
   "outputs": [],
   "source": [
    "security = 3\n",
    "gamma = security ** 5\n",
    "eta = security ** 2\n",
    "rho = security\n",
    "rho_prime = 2 * security\n",
    "tau = gamma + security"
   ],
   "metadata": {
    "collapsed": false,
    "ExecuteTime": {
     "end_time": "2023-12-01T23:38:09.067267Z",
     "start_time": "2023-12-01T23:38:09.050943Z"
    }
   },
   "id": "cd66da3f180f7cc2"
  },
  {
   "cell_type": "markdown",
   "source": [
    "#### Key"
   ],
   "metadata": {
    "collapsed": false
   },
   "id": "686534d6d0eb6819"
  },
  {
   "cell_type": "code",
   "execution_count": 23,
   "outputs": [],
   "source": [
    "def private_key(num_bits: int) -> int:\n",
    "    key = np.random.randint(2 ** (num_bits - 1), 2 ** num_bits)\n",
    "    while key % 2 != 1:\n",
    "        key = np.random.randint(2 ** (num_bits - 1), 2 ** num_bits)\n",
    "    return key\n",
    "        \n",
    "def public_key(private_key: int,\n",
    "               size: int) -> int:\n",
    "    key = np.empty(shape=(size,), dtype=np.int64)\n",
    "    for _ in range(size):\n",
    "        \n",
    "    return key, largest"
   ],
   "metadata": {
    "collapsed": false,
    "ExecuteTime": {
     "end_time": "2023-12-01T23:43:59.538393Z",
     "start_time": "2023-12-01T23:43:59.476001Z"
    }
   },
   "id": "7be741239cf5eac2"
  },
  {
   "cell_type": "code",
   "execution_count": 69,
   "outputs": [
    {
     "data": {
      "text/plain": "array([4616981938510815294, 4613349226564724111, 4612217596255138984])"
     },
     "execution_count": 69,
     "metadata": {},
     "output_type": "execute_result"
    }
   ],
   "source": [
    "np.empty(shape=(3,), dtype=int)"
   ],
   "metadata": {
    "collapsed": false,
    "ExecuteTime": {
     "end_time": "2023-12-02T00:05:48.179073Z",
     "start_time": "2023-12-02T00:05:48.152935Z"
    }
   },
   "id": "60c566104f903f3c"
  },
  {
   "cell_type": "code",
   "execution_count": 27,
   "outputs": [
    {
     "data": {
      "text/plain": "89"
     },
     "execution_count": 27,
     "metadata": {},
     "output_type": "execute_result"
    }
   ],
   "source": [
    "private_key(eta)"
   ],
   "metadata": {
    "collapsed": false,
    "ExecuteTime": {
     "end_time": "2023-12-01T23:44:03.581505Z",
     "start_time": "2023-12-01T23:44:03.562633Z"
    }
   },
   "id": "7fa9986a861e7d2c"
  },
  {
   "cell_type": "code",
   "execution_count": 71,
   "outputs": [
    {
     "data": {
      "text/plain": "array([70, 22, 84, 46, 59])"
     },
     "execution_count": 71,
     "metadata": {},
     "output_type": "execute_result"
    }
   ],
   "source": [
    "np.random.randint(0, 100, size=5)"
   ],
   "metadata": {
    "collapsed": false,
    "ExecuteTime": {
     "end_time": "2023-12-02T00:39:56.708425Z",
     "start_time": "2023-12-02T00:39:56.625024Z"
    }
   },
   "id": "caeedf0a44c19d94"
  },
  {
   "cell_type": "code",
   "execution_count": 72,
   "outputs": [
    {
     "data": {
      "text/plain": "array([66, 10, 22, 81, 82])"
     },
     "execution_count": 72,
     "metadata": {},
     "output_type": "execute_result"
    }
   ],
   "source": [
    "np.random.randint(0, 100, size=(5,))"
   ],
   "metadata": {
    "collapsed": false,
    "ExecuteTime": {
     "end_time": "2023-12-02T00:40:06.592643Z",
     "start_time": "2023-12-02T00:40:06.491566Z"
    }
   },
   "id": "bd794bbf22410fbe"
  },
  {
   "cell_type": "code",
   "execution_count": 75,
   "outputs": [
    {
     "data": {
      "text/plain": "array([63, 37, 48, 55, 69])"
     },
     "execution_count": 75,
     "metadata": {},
     "output_type": "execute_result"
    }
   ],
   "source": [
    "np.random.randint(0, 100, 5)"
   ],
   "metadata": {
    "collapsed": false,
    "ExecuteTime": {
     "end_time": "2023-12-02T00:40:31.697612Z",
     "start_time": "2023-12-02T00:40:31.680685Z"
    }
   },
   "id": "825f94f7f2e6c113"
  },
  {
   "cell_type": "code",
   "execution_count": 76,
   "outputs": [
    {
     "data": {
      "text/plain": "array([0, 0, 0, 0, 0])"
     },
     "execution_count": 76,
     "metadata": {},
     "output_type": "execute_result"
    }
   ],
   "source": [
    "np.empty(shape=5, dtype=int)"
   ],
   "metadata": {
    "collapsed": false,
    "ExecuteTime": {
     "end_time": "2023-12-02T00:50:01.461798Z",
     "start_time": "2023-12-02T00:50:01.279842Z"
    }
   },
   "id": "1dd31bafad156475"
  },
  {
   "cell_type": "code",
   "execution_count": 77,
   "outputs": [
    {
     "data": {
      "text/plain": "array([0, 0, 1, 1, 1])"
     },
     "execution_count": 77,
     "metadata": {},
     "output_type": "execute_result"
    }
   ],
   "source": [],
   "metadata": {
    "collapsed": false,
    "ExecuteTime": {
     "end_time": "2023-12-02T01:32:16.168540Z",
     "start_time": "2023-12-02T01:32:16.138753Z"
    }
   },
   "id": "c7cc2c73d193881d"
  },
  {
   "cell_type": "code",
   "execution_count": 100,
   "outputs": [
    {
     "data": {
      "text/plain": "(array([0, 1, 2, 3, 4]),\n array([False,  True,  True,  True, False]),\n array([1, 2, 3]))"
     },
     "execution_count": 100,
     "metadata": {},
     "output_type": "execute_result"
    }
   ],
   "source": [
    "i = np.random.choice([True, False], size=5)\n",
    "x = np.arange(5)\n",
    "x, i, x[i]"
   ],
   "metadata": {
    "collapsed": false,
    "ExecuteTime": {
     "end_time": "2023-12-02T01:35:16.505488Z",
     "start_time": "2023-12-02T01:35:16.472253Z"
    }
   },
   "id": "49ec7de397cbd001"
  },
  {
   "cell_type": "code",
   "execution_count": 90,
   "outputs": [
    {
     "data": {
      "text/plain": "array([1, 3])"
     },
     "execution_count": 90,
     "metadata": {},
     "output_type": "execute_result"
    }
   ],
   "source": [],
   "metadata": {
    "collapsed": false,
    "ExecuteTime": {
     "end_time": "2023-12-02T01:35:00.111210Z",
     "start_time": "2023-12-02T01:35:00.095576Z"
    }
   },
   "id": "4605245d173b37b"
  },
  {
   "cell_type": "code",
   "execution_count": 86,
   "outputs": [
    {
     "data": {
      "text/plain": "array([False,  True,  True,  True, False])"
     },
     "execution_count": 86,
     "metadata": {},
     "output_type": "execute_result"
    }
   ],
   "source": [],
   "metadata": {
    "collapsed": false,
    "ExecuteTime": {
     "end_time": "2023-12-02T01:34:41.725869Z",
     "start_time": "2023-12-02T01:34:41.538823Z"
    }
   },
   "id": "2d8e1b432e51b45a"
  },
  {
   "cell_type": "code",
   "execution_count": null,
   "outputs": [],
   "source": [],
   "metadata": {
    "collapsed": false
   },
   "id": "c9b967fec4129b7d"
  }
 ],
 "metadata": {
  "kernelspec": {
   "display_name": "Python 3",
   "language": "python",
   "name": "python3"
  },
  "language_info": {
   "codemirror_mode": {
    "name": "ipython",
    "version": 2
   },
   "file_extension": ".py",
   "mimetype": "text/x-python",
   "name": "python",
   "nbconvert_exporter": "python",
   "pygments_lexer": "ipython2",
   "version": "2.7.6"
  }
 },
 "nbformat": 4,
 "nbformat_minor": 5
}

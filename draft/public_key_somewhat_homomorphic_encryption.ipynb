{
 "cells": [
  {
   "cell_type": "code",
   "execution_count": 7,
   "id": "initial_id",
   "metadata": {
    "collapsed": true,
    "ExecuteTime": {
     "end_time": "2023-12-01T23:38:31.923098Z",
     "start_time": "2023-12-01T23:38:30.607919Z"
    }
   },
   "outputs": [],
   "source": [
    "import random\n",
    "import math\n",
    "import numpy as np"
   ]
  },
  {
   "cell_type": "markdown",
   "source": [
    "#### Parameters"
   ],
   "metadata": {
    "collapsed": false
   },
   "id": "9405e2280a38a813"
  },
  {
   "cell_type": "code",
   "execution_count": 5,
   "outputs": [],
   "source": [
    "security = 3\n",
    "gamma = security ** 5\n",
    "eta = security ** 2\n",
    "rho = security\n",
    "rho_prime = 2 * security\n",
    "tau = gamma + security"
   ],
   "metadata": {
    "collapsed": false,
    "ExecuteTime": {
     "end_time": "2023-12-01T23:38:09.067267Z",
     "start_time": "2023-12-01T23:38:09.050943Z"
    }
   },
   "id": "cd66da3f180f7cc2"
  },
  {
   "cell_type": "markdown",
   "source": [
    "#### Key"
   ],
   "metadata": {
    "collapsed": false
   },
   "id": "686534d6d0eb6819"
  },
  {
   "cell_type": "code",
   "execution_count": 23,
   "outputs": [],
   "source": [
    "def private_key(num_bits: int) -> int:\n",
    "    key = np.random.randint(2 ** (num_bits - 1), 2 ** num_bits)\n",
    "    while key % 2 != 1:\n",
    "        key = np.random.randint(2 ** (num_bits - 1), 2 ** num_bits)\n",
    "    return key\n",
    "        \n",
    "def public_key(private_key: int,\n",
    "               size: int) -> int:\n",
    "    key = np.empty(shape=(size,), dtype=np.int64)\n",
    "    for _ in range(size):\n",
    "        \n",
    "    return key, largest"
   ],
   "metadata": {
    "collapsed": false,
    "ExecuteTime": {
     "end_time": "2023-12-01T23:43:59.538393Z",
     "start_time": "2023-12-01T23:43:59.476001Z"
    }
   },
   "id": "7be741239cf5eac2"
  },
  {
   "cell_type": "code",
   "execution_count": 69,
   "outputs": [
    {
     "data": {
      "text/plain": "array([4616981938510815294, 4613349226564724111, 4612217596255138984])"
     },
     "execution_count": 69,
     "metadata": {},
     "output_type": "execute_result"
    }
   ],
   "source": [
    "np.empty(shape=(3,), dtype=int)"
   ],
   "metadata": {
    "collapsed": false,
    "ExecuteTime": {
     "end_time": "2023-12-02T00:05:48.179073Z",
     "start_time": "2023-12-02T00:05:48.152935Z"
    }
   },
   "id": "60c566104f903f3c"
  },
  {
   "cell_type": "code",
   "execution_count": 27,
   "outputs": [
    {
     "data": {
      "text/plain": "89"
     },
     "execution_count": 27,
     "metadata": {},
     "output_type": "execute_result"
    }
   ],
   "source": [
    "private_key(eta)"
   ],
   "metadata": {
    "collapsed": false,
    "ExecuteTime": {
     "end_time": "2023-12-01T23:44:03.581505Z",
     "start_time": "2023-12-01T23:44:03.562633Z"
    }
   },
   "id": "7fa9986a861e7d2c"
  },
  {
   "cell_type": "code",
   "execution_count": 71,
   "outputs": [
    {
     "data": {
      "text/plain": "array([70, 22, 84, 46, 59])"
     },
     "execution_count": 71,
     "metadata": {},
     "output_type": "execute_result"
    }
   ],
   "source": [
    "np.random.randint(0, 100, size=5)"
   ],
   "metadata": {
    "collapsed": false,
    "ExecuteTime": {
     "end_time": "2023-12-02T00:39:56.708425Z",
     "start_time": "2023-12-02T00:39:56.625024Z"
    }
   },
   "id": "caeedf0a44c19d94"
  },
  {
   "cell_type": "code",
   "execution_count": 72,
   "outputs": [
    {
     "data": {
      "text/plain": "array([66, 10, 22, 81, 82])"
     },
     "execution_count": 72,
     "metadata": {},
     "output_type": "execute_result"
    }
   ],
   "source": [
    "np.random.randint(0, 100, size=(5,))"
   ],
   "metadata": {
    "collapsed": false,
    "ExecuteTime": {
     "end_time": "2023-12-02T00:40:06.592643Z",
     "start_time": "2023-12-02T00:40:06.491566Z"
    }
   },
   "id": "bd794bbf22410fbe"
  },
  {
   "cell_type": "code",
   "execution_count": 75,
   "outputs": [
    {
     "data": {
      "text/plain": "array([63, 37, 48, 55, 69])"
     },
     "execution_count": 75,
     "metadata": {},
     "output_type": "execute_result"
    }
   ],
   "source": [
    "np.random.randint(0, 100, 5)"
   ],
   "metadata": {
    "collapsed": false,
    "ExecuteTime": {
     "end_time": "2023-12-02T00:40:31.697612Z",
     "start_time": "2023-12-02T00:40:31.680685Z"
    }
   },
   "id": "825f94f7f2e6c113"
  },
  {
   "cell_type": "code",
   "execution_count": 76,
   "outputs": [
    {
     "data": {
      "text/plain": "array([0, 0, 0, 0, 0])"
     },
     "execution_count": 76,
     "metadata": {},
     "output_type": "execute_result"
    }
   ],
   "source": [
    "np.empty(shape=5, dtype=int)"
   ],
   "metadata": {
    "collapsed": false,
    "ExecuteTime": {
     "end_time": "2023-12-02T00:50:01.461798Z",
     "start_time": "2023-12-02T00:50:01.279842Z"
    }
   },
   "id": "1dd31bafad156475"
  },
  {
   "cell_type": "code",
   "execution_count": 77,
   "outputs": [
    {
     "data": {
      "text/plain": "array([0, 0, 1, 1, 1])"
     },
     "execution_count": 77,
     "metadata": {},
     "output_type": "execute_result"
    }
   ],
   "source": [],
   "metadata": {
    "collapsed": false,
    "ExecuteTime": {
     "end_time": "2023-12-02T01:32:16.168540Z",
     "start_time": "2023-12-02T01:32:16.138753Z"
    }
   },
   "id": "c7cc2c73d193881d"
  },
  {
   "cell_type": "code",
   "execution_count": 100,
   "outputs": [
    {
     "data": {
      "text/plain": "(array([0, 1, 2, 3, 4]),\n array([False,  True,  True,  True, False]),\n array([1, 2, 3]))"
     },
     "execution_count": 100,
     "metadata": {},
     "output_type": "execute_result"
    }
   ],
   "source": [
    "i = np.random.choice([True, False], size=5)\n",
    "x = np.arange(5)\n",
    "x, i, x[i]"
   ],
   "metadata": {
    "collapsed": false,
    "ExecuteTime": {
     "end_time": "2023-12-02T01:35:16.505488Z",
     "start_time": "2023-12-02T01:35:16.472253Z"
    }
   },
   "id": "49ec7de397cbd001"
  },
  {
   "cell_type": "code",
   "execution_count": 4,
   "outputs": [
    {
     "data": {
      "text/plain": "9"
     },
     "execution_count": 4,
     "metadata": {},
     "output_type": "execute_result"
    }
   ],
   "source": [
    "message = 0b1001\n",
    "message"
   ],
   "metadata": {
    "collapsed": false,
    "ExecuteTime": {
     "end_time": "2023-12-02T04:49:51.065059Z",
     "start_time": "2023-12-02T04:49:50.894393Z"
    }
   },
   "id": "4605245d173b37b"
  },
  {
   "cell_type": "code",
   "execution_count": 5,
   "outputs": [
    {
     "data": {
      "text/plain": "9"
     },
     "execution_count": 5,
     "metadata": {},
     "output_type": "execute_result"
    }
   ],
   "source": [
    "x = 9\n",
    "x"
   ],
   "metadata": {
    "collapsed": false,
    "ExecuteTime": {
     "end_time": "2023-12-02T04:52:36.198349Z",
     "start_time": "2023-12-02T04:52:36.089863Z"
    }
   },
   "id": "2d8e1b432e51b45a"
  },
  {
   "cell_type": "code",
   "execution_count": 6,
   "outputs": [
    {
     "data": {
      "text/plain": "'0b1001'"
     },
     "execution_count": 6,
     "metadata": {},
     "output_type": "execute_result"
    }
   ],
   "source": [
    "bin(9)"
   ],
   "metadata": {
    "collapsed": false,
    "ExecuteTime": {
     "end_time": "2023-12-02T04:52:39.568788Z",
     "start_time": "2023-12-02T04:52:39.357854Z"
    }
   },
   "id": "c9b967fec4129b7d"
  },
  {
   "cell_type": "code",
   "execution_count": 11,
   "outputs": [
    {
     "data": {
      "text/plain": "'1001'"
     },
     "execution_count": 11,
     "metadata": {},
     "output_type": "execute_result"
    }
   ],
   "source": [
    "bin(0b1001)[2:]"
   ],
   "metadata": {
    "collapsed": false,
    "ExecuteTime": {
     "end_time": "2023-12-02T04:55:28.394350Z",
     "start_time": "2023-12-02T04:55:28.283773Z"
    }
   },
   "id": "f8c0bf5ed6aba9b"
  },
  {
   "cell_type": "code",
   "execution_count": 13,
   "outputs": [
    {
     "data": {
      "text/plain": "array([1, 0, 0, 1])"
     },
     "execution_count": 13,
     "metadata": {},
     "output_type": "execute_result"
    }
   ],
   "source": [
    "import numpy as np\n",
    "np.array([int(i) for i in bin(0b1001)[2:]])"
   ],
   "metadata": {
    "collapsed": false,
    "ExecuteTime": {
     "end_time": "2023-12-02T04:56:01.346216Z",
     "start_time": "2023-12-02T04:55:59.730824Z"
    }
   },
   "id": "540901c3a65f379b"
  },
  {
   "cell_type": "code",
   "execution_count": 20,
   "outputs": [
    {
     "data": {
      "text/plain": "array([1, 0, 1, 0, 1, 0])"
     },
     "execution_count": 20,
     "metadata": {},
     "output_type": "execute_result"
    }
   ],
   "source": [
    "decimal_number = 42\n",
    "\n",
    "# Convert decimal to binary string\n",
    "binary_string = bin(decimal_number)[2:]\n",
    "\n",
    "# Convert binary string to NumPy array of integers\n",
    "binary_array = np.array(list(map(int, binary_string)))\n",
    "binary_array"
   ],
   "metadata": {
    "collapsed": false,
    "ExecuteTime": {
     "end_time": "2023-12-02T05:11:28.707168Z",
     "start_time": "2023-12-02T05:11:28.639042Z"
    }
   },
   "id": "9f5799b84a44aba7"
  },
  {
   "cell_type": "code",
   "execution_count": 15,
   "outputs": [
    {
     "data": {
      "text/plain": "'0b101010'"
     },
     "execution_count": 15,
     "metadata": {},
     "output_type": "execute_result"
    }
   ],
   "source": [
    "bin(42)"
   ],
   "metadata": {
    "collapsed": false,
    "ExecuteTime": {
     "end_time": "2023-12-02T05:03:05.707035Z",
     "start_time": "2023-12-02T05:03:05.601594Z"
    }
   },
   "id": "a4b757db4236b6d4"
  },
  {
   "cell_type": "code",
   "execution_count": 16,
   "outputs": [
    {
     "data": {
      "text/plain": "array([[1, 0, 0, 0, 0, 0, 0, 0],\n       [0, 1, 0, 0, 0, 0, 0, 0],\n       [1, 1, 0, 0, 0, 0, 0, 0],\n       [0, 0, 1, 0, 0, 0, 0, 0],\n       [1, 0, 1, 0, 0, 0, 0, 0]])"
     },
     "execution_count": 16,
     "metadata": {},
     "output_type": "execute_result"
    }
   ],
   "source": [
    "d = np.array([1,2,3,4,5])\n",
    "m = 8\n",
    "((d[:,None] & (1 << np.arange(m))) > 0).astype(int)"
   ],
   "metadata": {
    "collapsed": false,
    "ExecuteTime": {
     "end_time": "2023-12-02T05:04:41.605202Z",
     "start_time": "2023-12-02T05:04:41.521811Z"
    }
   },
   "id": "987c201d030d677d"
  },
  {
   "cell_type": "code",
   "execution_count": 17,
   "outputs": [
    {
     "data": {
      "text/plain": "array([[1],\n       [2],\n       [3],\n       [4],\n       [5]])"
     },
     "execution_count": 17,
     "metadata": {},
     "output_type": "execute_result"
    }
   ],
   "source": [
    "d[:, None]"
   ],
   "metadata": {
    "collapsed": false,
    "ExecuteTime": {
     "end_time": "2023-12-02T05:04:50.255836Z",
     "start_time": "2023-12-02T05:04:50.094437Z"
    }
   },
   "id": "e13e16daee9826d"
  },
  {
   "cell_type": "code",
   "execution_count": 18,
   "outputs": [
    {
     "data": {
      "text/plain": "array([  1,   2,   4,   8,  16,  32,  64, 128])"
     },
     "execution_count": 18,
     "metadata": {},
     "output_type": "execute_result"
    }
   ],
   "source": [
    "1 << np.arange(m)"
   ],
   "metadata": {
    "collapsed": false,
    "ExecuteTime": {
     "end_time": "2023-12-02T05:05:29.527365Z",
     "start_time": "2023-12-02T05:05:29.376424Z"
    }
   },
   "id": "13896749bf1ded85"
  },
  {
   "cell_type": "code",
   "execution_count": 19,
   "outputs": [
    {
     "data": {
      "text/plain": "array([[1, 0, 0, 0, 0, 0, 0, 0],\n       [0, 2, 0, 0, 0, 0, 0, 0],\n       [1, 2, 0, 0, 0, 0, 0, 0],\n       [0, 0, 4, 0, 0, 0, 0, 0],\n       [1, 0, 4, 0, 0, 0, 0, 0]])"
     },
     "execution_count": 19,
     "metadata": {},
     "output_type": "execute_result"
    }
   ],
   "source": [
    "d[:, None] & (1 << np.arange(m))"
   ],
   "metadata": {
    "collapsed": false,
    "ExecuteTime": {
     "end_time": "2023-12-02T05:06:01.976226Z",
     "start_time": "2023-12-02T05:06:01.864233Z"
    }
   },
   "id": "97dec7beef60997e"
  },
  {
   "cell_type": "code",
   "execution_count": 21,
   "outputs": [
    {
     "data": {
      "text/plain": "(array([0, 1, 2, 3, 4, 5, 6, 7, 8]), array([0, 1, 0, 1, 0, 1, 0, 1, 0]))"
     },
     "execution_count": 21,
     "metadata": {},
     "output_type": "execute_result"
    }
   ],
   "source": [
    "x = np.arange(9)\n",
    "x, x % 2"
   ],
   "metadata": {
    "collapsed": false,
    "ExecuteTime": {
     "end_time": "2023-12-02T05:15:57.795435Z",
     "start_time": "2023-12-02T05:15:57.679072Z"
    }
   },
   "id": "fff9d03365697886"
  },
  {
   "cell_type": "code",
   "execution_count": 22,
   "outputs": [
    {
     "data": {
      "text/plain": "array([0, 1, 2, 3, 4, 5, 6, 7, 8])"
     },
     "execution_count": 22,
     "metadata": {},
     "output_type": "execute_result"
    }
   ],
   "source": [
    "x"
   ],
   "metadata": {
    "collapsed": false,
    "ExecuteTime": {
     "end_time": "2023-12-02T05:20:12.657473Z",
     "start_time": "2023-12-02T05:20:12.549666Z"
    }
   },
   "id": "3bbf96244d62295"
  },
  {
   "cell_type": "code",
   "execution_count": 23,
   "outputs": [],
   "source": [
    "A = np.arange(3)\n",
    "n = 5"
   ],
   "metadata": {
    "collapsed": false,
    "ExecuteTime": {
     "end_time": "2023-12-02T05:35:25.261371Z",
     "start_time": "2023-12-02T05:35:25.172099Z"
    }
   },
   "id": "e44c08131fba6f1b"
  },
  {
   "cell_type": "code",
   "execution_count": 25,
   "outputs": [
    {
     "data": {
      "text/plain": "array([[0, 1, 1],\n       [2, 2, 1],\n       [1, 2, 2],\n       [1, 2, 0],\n       [0, 2, 2]])"
     },
     "execution_count": 25,
     "metadata": {},
     "output_type": "execute_result"
    }
   ],
   "source": [
    "random_indices = np.random.choice(len(A), (n, len(A)), replace=True)\n",
    "random_indices"
   ],
   "metadata": {
    "collapsed": false,
    "ExecuteTime": {
     "end_time": "2023-12-02T05:35:41.349534Z",
     "start_time": "2023-12-02T05:35:41.315715Z"
    }
   },
   "id": "105aa17b95a0496"
  },
  {
   "cell_type": "code",
   "execution_count": 26,
   "outputs": [
    {
     "data": {
      "text/plain": "array([[[1., 0., 0.],\n        [0., 1., 0.],\n        [0., 1., 0.]],\n\n       [[0., 0., 1.],\n        [0., 0., 1.],\n        [0., 1., 0.]],\n\n       [[0., 1., 0.],\n        [0., 0., 1.],\n        [0., 0., 1.]],\n\n       [[0., 1., 0.],\n        [0., 0., 1.],\n        [1., 0., 0.]],\n\n       [[1., 0., 0.],\n        [0., 0., 1.],\n        [0., 0., 1.]]])"
     },
     "execution_count": 26,
     "metadata": {},
     "output_type": "execute_result"
    }
   ],
   "source": [
    "subset_masks = np.eye(len(A))[random_indices]\n",
    "subset_masks"
   ],
   "metadata": {
    "collapsed": false,
    "ExecuteTime": {
     "end_time": "2023-12-02T05:36:04.239819Z",
     "start_time": "2023-12-02T05:36:04.125254Z"
    }
   },
   "id": "595d18087297d40c"
  },
  {
   "cell_type": "code",
   "execution_count": 27,
   "outputs": [
    {
     "data": {
      "text/plain": "array([[0., 1., 1.],\n       [2., 2., 1.],\n       [1., 2., 2.],\n       [1., 2., 0.],\n       [0., 2., 2.]])"
     },
     "execution_count": 27,
     "metadata": {},
     "output_type": "execute_result"
    }
   ],
   "source": [
    "subset_sums = np.dot(subset_masks, A)\n",
    "subset_sums"
   ],
   "metadata": {
    "collapsed": false,
    "ExecuteTime": {
     "end_time": "2023-12-02T05:36:28.411325Z",
     "start_time": "2023-12-02T05:36:28.383625Z"
    }
   },
   "id": "5fd117968988cf19"
  },
  {
   "cell_type": "code",
   "execution_count": 24,
   "outputs": [
    {
     "data": {
      "text/plain": "array([[1., 0., 2.],\n       [0., 1., 0.],\n       [1., 0., 2.],\n       [2., 0., 1.],\n       [0., 2., 2.]])"
     },
     "execution_count": 24,
     "metadata": {},
     "output_type": "execute_result"
    }
   ],
   "source": [
    "\n",
    "# Create a mask for the selected elements in each subset\n",
    "\n",
    "# Calculate the sum of each subset using matrix multiplication\n"
   ],
   "metadata": {
    "collapsed": false,
    "ExecuteTime": {
     "end_time": "2023-12-02T05:35:31.517140Z",
     "start_time": "2023-12-02T05:35:31.427308Z"
    }
   },
   "id": "5f2733e4e07b0d93"
  },
  {
   "cell_type": "code",
   "execution_count": 30,
   "outputs": [
    {
     "data": {
      "text/plain": "(array([0, 1, 2]),\n array([[0, 0, 1],\n        [1, 0, 1],\n        [1, 1, 0],\n        [1, 1, 1],\n        [1, 0, 0]]),\n array([2, 2, 1, 3, 0]))"
     },
     "execution_count": 30,
     "metadata": {},
     "output_type": "execute_result"
    }
   ],
   "source": [
    "x = np.arange(3)\n",
    "i = np.random.choice([0, 1], size=(5, 3))\n",
    "x, i, i @ x"
   ],
   "metadata": {
    "collapsed": false,
    "ExecuteTime": {
     "end_time": "2023-12-02T05:41:26.100159Z",
     "start_time": "2023-12-02T05:41:25.990463Z"
    }
   },
   "id": "c429cac67325420f"
  },
  {
   "cell_type": "code",
   "execution_count": 31,
   "outputs": [
    {
     "data": {
      "text/plain": "array([1, 1, 1, 0, 0])"
     },
     "execution_count": 31,
     "metadata": {},
     "output_type": "execute_result"
    }
   ],
   "source": [
    "binary_array = np.random.choice([0,1], size=5)\n",
    "binary_array"
   ],
   "metadata": {
    "collapsed": false,
    "ExecuteTime": {
     "end_time": "2023-12-02T06:05:47.766213Z",
     "start_time": "2023-12-02T06:05:47.711012Z"
    }
   },
   "id": "2162d1d9c1ae637d"
  },
  {
   "cell_type": "code",
   "execution_count": 32,
   "outputs": [
    {
     "data": {
      "text/plain": "'11100'"
     },
     "execution_count": 32,
     "metadata": {},
     "output_type": "execute_result"
    }
   ],
   "source": [
    "binary_string = ''.join(map(str, binary_array))\n",
    "binary_string"
   ],
   "metadata": {
    "collapsed": false,
    "ExecuteTime": {
     "end_time": "2023-12-02T06:05:59.137124Z",
     "start_time": "2023-12-02T06:05:59.108231Z"
    }
   },
   "id": "da13149bb4d7c795"
  },
  {
   "cell_type": "code",
   "execution_count": 33,
   "outputs": [
    {
     "data": {
      "text/plain": "28"
     },
     "execution_count": 33,
     "metadata": {},
     "output_type": "execute_result"
    }
   ],
   "source": [
    "decimal_int = int(binary_string, 2)\n",
    "decimal_int"
   ],
   "metadata": {
    "collapsed": false,
    "ExecuteTime": {
     "end_time": "2023-12-02T06:06:05.807924Z",
     "start_time": "2023-12-02T06:06:05.680369Z"
    }
   },
   "id": "8104059a4620a631"
  },
  {
   "cell_type": "code",
   "execution_count": null,
   "outputs": [],
   "source": [],
   "metadata": {
    "collapsed": false
   },
   "id": "c50da6b093c77d83"
  }
 ],
 "metadata": {
  "kernelspec": {
   "display_name": "Python 3",
   "language": "python",
   "name": "python3"
  },
  "language_info": {
   "codemirror_mode": {
    "name": "ipython",
    "version": 2
   },
   "file_extension": ".py",
   "mimetype": "text/x-python",
   "name": "python",
   "nbconvert_exporter": "python",
   "pygments_lexer": "ipython2",
   "version": "2.7.6"
  }
 },
 "nbformat": 4,
 "nbformat_minor": 5
}

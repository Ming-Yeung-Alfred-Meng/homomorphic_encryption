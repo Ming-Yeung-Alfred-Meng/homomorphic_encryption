{
 "cells": [
  {
   "cell_type": "code",
   "execution_count": 1,
   "id": "initial_id",
   "metadata": {
    "collapsed": true,
    "ExecuteTime": {
     "end_time": "2023-12-03T04:18:33.319171Z",
     "start_time": "2023-12-03T04:18:32.130503Z"
    }
   },
   "outputs": [],
   "source": [
    "import numpy as np"
   ]
  },
  {
   "cell_type": "code",
   "execution_count": 2,
   "outputs": [
    {
     "data": {
      "text/plain": "array([0, 4, 1, 2, 3])"
     },
     "execution_count": 2,
     "metadata": {},
     "output_type": "execute_result"
    }
   ],
   "source": [
    "np.random.choice(5, size=5, replace=False)"
   ],
   "metadata": {
    "collapsed": false,
    "ExecuteTime": {
     "end_time": "2023-12-03T04:18:33.430028Z",
     "start_time": "2023-12-03T04:18:33.317444Z"
    }
   },
   "id": "4a694619d2caaa5e"
  },
  {
   "cell_type": "code",
   "execution_count": 8,
   "outputs": [
    {
     "data": {
      "text/plain": "array([5, 2, 0, 5, 0])"
     },
     "execution_count": 8,
     "metadata": {},
     "output_type": "execute_result"
    }
   ],
   "source": [
    "q = np.random.randint(0, (2 ** 5) / 5, size=(5,))\n",
    "q"
   ],
   "metadata": {
    "collapsed": false,
    "ExecuteTime": {
     "end_time": "2023-12-03T04:20:10.144881Z",
     "start_time": "2023-12-03T04:20:10.047051Z"
    }
   },
   "id": "3a66eea3b40ef239"
  },
  {
   "cell_type": "code",
   "execution_count": 9,
   "outputs": [],
   "source": [
    "public_key = 2"
   ],
   "metadata": {
    "collapsed": false,
    "ExecuteTime": {
     "end_time": "2023-12-03T04:20:10.784592Z",
     "start_time": "2023-12-03T04:20:10.663656Z"
    }
   },
   "id": "94e5e1cef0cbc194"
  },
  {
   "cell_type": "code",
   "execution_count": 10,
   "outputs": [
    {
     "data": {
      "text/plain": "array([10,  4,  0, 10,  0])"
     },
     "execution_count": 10,
     "metadata": {},
     "output_type": "execute_result"
    }
   ],
   "source": [
    "s = public_key * q\n",
    "s"
   ],
   "metadata": {
    "collapsed": false,
    "ExecuteTime": {
     "end_time": "2023-12-03T04:20:11.320672Z",
     "start_time": "2023-12-03T04:20:11.262307Z"
    }
   },
   "id": "f3953fbb04b6e92e"
  },
  {
   "cell_type": "code",
   "execution_count": 11,
   "outputs": [
    {
     "data": {
      "text/plain": "array([-18,   3,  -9, -21, -13])"
     },
     "execution_count": 11,
     "metadata": {},
     "output_type": "execute_result"
    }
   ],
   "source": [
    "r = np.random.randint(1 - (2 ** 5), 2 ** 5, size=5)\n",
    "r"
   ],
   "metadata": {
    "collapsed": false,
    "ExecuteTime": {
     "end_time": "2023-12-03T04:20:19.182084Z",
     "start_time": "2023-12-03T04:20:19.130627Z"
    }
   },
   "id": "3083a96686eafc53"
  },
  {
   "cell_type": "code",
   "execution_count": 12,
   "outputs": [
    {
     "data": {
      "text/plain": "array([ -8,   7,  -9, -11, -13])"
     },
     "execution_count": 12,
     "metadata": {},
     "output_type": "execute_result"
    }
   ],
   "source": [
    "public_key * q + r"
   ],
   "metadata": {
    "collapsed": false,
    "ExecuteTime": {
     "end_time": "2023-12-03T04:20:29.642065Z",
     "start_time": "2023-12-03T04:20:29.566696Z"
    }
   },
   "id": "8b08b575c0a572c7"
  },
  {
   "cell_type": "code",
   "execution_count": 11,
   "outputs": [
    {
     "data": {
      "text/plain": "103299713675969608698749810522951005423872674573477956696781072525267261940181815125259189423930142236716389033545602041972829419267544156335896132938915431786317629558735485059784424756219451641543361560804351200766049881974520479377524806620534511003424155925517937661798282904764472583496684569213295022927"
     },
     "execution_count": 11,
     "metadata": {},
     "output_type": "execute_result"
    }
   ],
   "source": [
    "import random\n",
    "\n",
    "num_bits = 1024\n",
    "x = random.randrange(2 ** (num_bits - 1), 2 ** num_bits) | 1\n",
    "x"
   ],
   "metadata": {
    "collapsed": false,
    "ExecuteTime": {
     "end_time": "2023-12-03T20:38:11.729888Z",
     "start_time": "2023-12-03T20:38:11.683443Z"
    }
   },
   "id": "492359e175e86bec"
  },
  {
   "cell_type": "code",
   "execution_count": 12,
   "outputs": [
    {
     "data": {
      "text/plain": "int"
     },
     "execution_count": 12,
     "metadata": {},
     "output_type": "execute_result"
    }
   ],
   "source": [
    "type(x)"
   ],
   "metadata": {
    "collapsed": false,
    "ExecuteTime": {
     "end_time": "2023-12-03T20:38:17.834297Z",
     "start_time": "2023-12-03T20:38:17.796868Z"
    }
   },
   "id": "cc6b195e250664aa"
  },
  {
   "cell_type": "code",
   "execution_count": 31,
   "outputs": [
    {
     "data": {
      "text/plain": "(array([[0., 1.],\n        [1., 2.]]),\n numpy.ndarray)"
     },
     "execution_count": 31,
     "metadata": {},
     "output_type": "execute_result"
    }
   ],
   "source": [
    "import random\n",
    "import numpy as np\n",
    "\n",
    "num_bits = 3\n",
    "x = np.fromfunction(lambda i, j: i + j, shape=(2,2))\n",
    "x, type(x)"
   ],
   "metadata": {
    "collapsed": false,
    "ExecuteTime": {
     "end_time": "2023-12-03T20:46:13.605055Z",
     "start_time": "2023-12-03T20:46:13.527167Z"
    }
   },
   "id": "d7e6f0d7193e5b24"
  },
  {
   "cell_type": "code",
   "execution_count": 20,
   "outputs": [
    {
     "data": {
      "text/plain": "array([[0., 0.],\n       [1., 1.]])"
     },
     "execution_count": 20,
     "metadata": {},
     "output_type": "execute_result"
    }
   ],
   "source": [
    "np.fromfunction(lambda i, j: i, (2, 2), dtype=float)"
   ],
   "metadata": {
    "collapsed": false,
    "ExecuteTime": {
     "end_time": "2023-12-03T20:45:13.168048Z",
     "start_time": "2023-12-03T20:45:13.097258Z"
    }
   },
   "id": "d3ba9f01e2daaffd"
  },
  {
   "cell_type": "code",
   "execution_count": 52,
   "outputs": [
    {
     "data": {
      "text/plain": "(array([175133772148423773940758709660138124097840033979051867659059667729729933771311118452219567933372667359203757869627299772321450454449810411317005347479473443167544780702677881008844759949433657758013665011371542647612134950743377265719242905305875870918942404183974672027068772574353278611780342926179674843685,\n        122433682823174711450462525879979572490085205063337907526813723447417480777146799473914968932835847378401264742361738790392682383131978713340357380634690794256067949010768017373006671849033017824879522624149618864318998296825555155175410562545784431140253144015416450247501490489542832867413473324361742972290,\n        93529720460867025185183787731330024447334679503266073653541544043428253762258270133157905862848240668812242245954706886277776011974727910834295271661276276223247932078240312590730951385462287343031611730376780475249306431634056248926380232630090609068016491154674186535555283125834472766821438473756203859990,\n        93214377420280771513734288745016125816833171449708063363440119609947086218728605015165599782833726388563418930223185886976254205825945878554426465621109491866896097849869137733086863334920242280279827184600802756924244697975953351176881081934445540599329199876605444194869848549725451287698623191531417877677],\n       dtype=object),\n dtype('O'))"
     },
     "execution_count": 52,
     "metadata": {},
     "output_type": "execute_result"
    }
   ],
   "source": [
    "num_bits = 1024\n",
    "x = np.array([random.randrange(2 ** (num_bits - 1), 2 ** num_bits) for _ in range(4)], dtype=object)\n",
    "x, x.dtype"
   ],
   "metadata": {
    "collapsed": false,
    "ExecuteTime": {
     "end_time": "2023-12-03T20:50:21.389238Z",
     "start_time": "2023-12-03T20:50:21.320178Z"
    }
   },
   "id": "651b4c43496503ac"
  },
  {
   "cell_type": "code",
   "execution_count": 54,
   "outputs": [
    {
     "data": {
      "text/plain": "int"
     },
     "execution_count": 54,
     "metadata": {},
     "output_type": "execute_result"
    }
   ],
   "source": [
    "type(x[0])"
   ],
   "metadata": {
    "collapsed": false,
    "ExecuteTime": {
     "end_time": "2023-12-03T20:50:25.545904Z",
     "start_time": "2023-12-03T20:50:25.526596Z"
    }
   },
   "id": "cae24923c5eedf13"
  },
  {
   "cell_type": "code",
   "execution_count": 57,
   "outputs": [
    {
     "data": {
      "text/plain": "[0, 2, 4, 6, 8]"
     },
     "execution_count": 57,
     "metadata": {},
     "output_type": "execute_result"
    }
   ],
   "source": [
    "list(range(0, 10, 2))"
   ],
   "metadata": {
    "collapsed": false,
    "ExecuteTime": {
     "end_time": "2023-12-03T20:55:38.039840Z",
     "start_time": "2023-12-03T20:55:38.018651Z"
    }
   },
   "id": "ca2126a3925f7af"
  },
  {
   "cell_type": "code",
   "execution_count": 58,
   "outputs": [
    {
     "data": {
      "text/plain": "[1, 3, 5, 7, 9]"
     },
     "execution_count": 58,
     "metadata": {},
     "output_type": "execute_result"
    }
   ],
   "source": [
    "list(range(1, 10, 2))"
   ],
   "metadata": {
    "collapsed": false,
    "ExecuteTime": {
     "end_time": "2023-12-03T20:56:26.194160Z",
     "start_time": "2023-12-03T20:56:26.162397Z"
    }
   },
   "id": "2d780c09089a000a"
  },
  {
   "cell_type": "code",
   "execution_count": 62,
   "outputs": [
    {
     "name": "stdout",
     "output_type": "stream",
     "text": [
      "13\n",
      "15\n",
      "9\n",
      "15\n",
      "13\n",
      "9\n",
      "13\n",
      "15\n",
      "15\n",
      "15\n",
      "15\n",
      "9\n",
      "15\n",
      "9\n",
      "15\n",
      "9\n",
      "9\n",
      "9\n",
      "9\n",
      "9\n",
      "11\n",
      "11\n",
      "9\n",
      "15\n",
      "9\n",
      "11\n",
      "11\n",
      "11\n",
      "13\n",
      "9\n",
      "11\n",
      "15\n",
      "9\n",
      "13\n",
      "9\n",
      "15\n",
      "11\n",
      "13\n",
      "15\n",
      "9\n",
      "11\n",
      "11\n",
      "13\n",
      "15\n",
      "13\n",
      "9\n",
      "13\n",
      "13\n",
      "11\n",
      "11\n",
      "13\n",
      "13\n",
      "9\n",
      "9\n",
      "15\n",
      "11\n",
      "15\n",
      "9\n",
      "15\n",
      "11\n",
      "13\n",
      "15\n",
      "13\n",
      "13\n",
      "13\n",
      "15\n",
      "9\n",
      "11\n",
      "15\n",
      "11\n",
      "15\n",
      "11\n",
      "11\n",
      "9\n",
      "9\n",
      "9\n",
      "11\n",
      "15\n",
      "9\n",
      "11\n",
      "11\n",
      "15\n",
      "13\n",
      "13\n",
      "9\n",
      "9\n",
      "11\n",
      "15\n",
      "13\n",
      "15\n",
      "9\n",
      "11\n",
      "13\n",
      "13\n",
      "11\n",
      "13\n",
      "13\n",
      "13\n",
      "15\n",
      "15\n"
     ]
    }
   ],
   "source": [
    "b = 4\n",
    "trials = 100\n",
    "\n",
    "for _ in range(trials):\n",
    "    print(random.randrange(2 ** (b - 1) + 1, 2 ** b, 2))"
   ],
   "metadata": {
    "collapsed": false,
    "ExecuteTime": {
     "end_time": "2023-12-03T20:59:11.416583Z",
     "start_time": "2023-12-03T20:59:11.352140Z"
    }
   },
   "id": "e4403e0c885de2f9"
  },
  {
   "cell_type": "code",
   "execution_count": null,
   "outputs": [],
   "source": [
    "8, 9, 10, 11, 12, 13, 14, 15, 16"
   ],
   "metadata": {
    "collapsed": false
   },
   "id": "77270a3ec07cac09"
  },
  {
   "cell_type": "code",
   "execution_count": 63,
   "outputs": [
    {
     "data": {
      "text/plain": "True"
     },
     "execution_count": 63,
     "metadata": {},
     "output_type": "execute_result"
    }
   ],
   "source": [
    "type(9) is int"
   ],
   "metadata": {
    "collapsed": false,
    "ExecuteTime": {
     "end_time": "2023-12-03T21:09:42.435102Z",
     "start_time": "2023-12-03T21:09:42.331300Z"
    }
   },
   "id": "9f4466afea3087ff"
  },
  {
   "cell_type": "code",
   "execution_count": 1,
   "outputs": [
    {
     "data": {
      "text/plain": "(-1023, 1024)"
     },
     "execution_count": 1,
     "metadata": {},
     "output_type": "execute_result"
    }
   ],
   "source": [
    "1 - 2 ** 10, 2 **10"
   ],
   "metadata": {
    "collapsed": false,
    "ExecuteTime": {
     "end_time": "2023-12-03T21:57:44.613300Z",
     "start_time": "2023-12-03T21:57:44.543852Z"
    }
   },
   "id": "78558779641bb0d4"
  },
  {
   "cell_type": "code",
   "execution_count": 19,
   "outputs": [
    {
     "data": {
      "text/plain": "840"
     },
     "execution_count": 19,
     "metadata": {},
     "output_type": "execute_result"
    }
   ],
   "source": [
    "import random\n",
    "random.randrange(-1024, 1024, 2)"
   ],
   "metadata": {
    "collapsed": false,
    "ExecuteTime": {
     "end_time": "2023-12-03T21:58:09.197907Z",
     "start_time": "2023-12-03T21:58:09.102214Z"
    }
   },
   "id": "7c75477af3360ba7"
  },
  {
   "cell_type": "code",
   "execution_count": null,
   "outputs": [],
   "source": [],
   "metadata": {
    "collapsed": false
   },
   "id": "c934aeb76ecc14fb"
  }
 ],
 "metadata": {
  "kernelspec": {
   "display_name": "Python 3",
   "language": "python",
   "name": "python3"
  },
  "language_info": {
   "codemirror_mode": {
    "name": "ipython",
    "version": 2
   },
   "file_extension": ".py",
   "mimetype": "text/x-python",
   "name": "python",
   "nbconvert_exporter": "python",
   "pygments_lexer": "ipython2",
   "version": "2.7.6"
  }
 },
 "nbformat": 4,
 "nbformat_minor": 5
}

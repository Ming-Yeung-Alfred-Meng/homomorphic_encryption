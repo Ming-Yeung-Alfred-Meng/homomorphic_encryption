{
 "cells": [
  {
   "cell_type": "code",
   "execution_count": 1,
   "id": "initial_id",
   "metadata": {
    "collapsed": true,
    "ExecuteTime": {
     "end_time": "2023-12-01T04:37:30.621149Z",
     "start_time": "2023-12-01T04:37:28.954891Z"
    }
   },
   "outputs": [
    {
     "ename": "TypeError",
     "evalue": "unsupported operand type(s) for &: 'float' and 'int'",
     "output_type": "error",
     "traceback": [
      "\u001B[0;31m---------------------------------------------------------------------------\u001B[0m",
      "\u001B[0;31mTypeError\u001B[0m                                 Traceback (most recent call last)",
      "Cell \u001B[0;32mIn[1], line 21\u001B[0m\n\u001B[1;32m     19\u001B[0m \u001B[38;5;66;03m# Example usage\u001B[39;00m\n\u001B[1;32m     20\u001B[0m original_number \u001B[38;5;241m=\u001B[39m \u001B[38;5;241m3.141592653589793\u001B[39m\n\u001B[0;32m---> 21\u001B[0m precision_24_bits \u001B[38;5;241m=\u001B[39m \u001B[43mtruncate_precision\u001B[49m\u001B[43m(\u001B[49m\u001B[43moriginal_number\u001B[49m\u001B[43m)\u001B[49m\n\u001B[1;32m     23\u001B[0m \u001B[38;5;28mprint\u001B[39m(\u001B[38;5;124mf\u001B[39m\u001B[38;5;124m\"\u001B[39m\u001B[38;5;124mOriginal number: \u001B[39m\u001B[38;5;132;01m{\u001B[39;00moriginal_number\u001B[38;5;132;01m}\u001B[39;00m\u001B[38;5;124m\"\u001B[39m)\n\u001B[1;32m     24\u001B[0m \u001B[38;5;28mprint\u001B[39m(\u001B[38;5;124mf\u001B[39m\u001B[38;5;124m\"\u001B[39m\u001B[38;5;124mNumber with 24 bits of precision: \u001B[39m\u001B[38;5;132;01m{\u001B[39;00mprecision_24_bits\u001B[38;5;132;01m}\u001B[39;00m\u001B[38;5;124m\"\u001B[39m)\n",
      "Cell \u001B[0;32mIn[1], line 12\u001B[0m, in \u001B[0;36mtruncate_precision\u001B[0;34m(number, precision_bits)\u001B[0m\n\u001B[1;32m     10\u001B[0m \u001B[38;5;66;03m# Keep only the desired precision bits in the fractional part\u001B[39;00m\n\u001B[1;32m     11\u001B[0m precision_mask \u001B[38;5;241m=\u001B[39m (\u001B[38;5;241m1\u001B[39m \u001B[38;5;241m<<\u001B[39m precision_bits) \u001B[38;5;241m-\u001B[39m \u001B[38;5;241m1\u001B[39m\n\u001B[0;32m---> 12\u001B[0m truncated_fraction \u001B[38;5;241m=\u001B[39m \u001B[43mfractional_part\u001B[49m\u001B[43m \u001B[49m\u001B[38;5;241;43m&\u001B[39;49m\u001B[43m \u001B[49m\u001B[43mprecision_mask\u001B[49m\n\u001B[1;32m     14\u001B[0m \u001B[38;5;66;03m# Combine the integer part and truncated fractional part\u001B[39;00m\n\u001B[1;32m     15\u001B[0m result \u001B[38;5;241m=\u001B[39m integer_part \u001B[38;5;241m+\u001B[39m truncated_fraction \u001B[38;5;241m/\u001B[39m (\u001B[38;5;241m2\u001B[39m \u001B[38;5;241m*\u001B[39m\u001B[38;5;241m*\u001B[39m precision_bits)\n",
      "\u001B[0;31mTypeError\u001B[0m: unsupported operand type(s) for &: 'float' and 'int'"
     ]
    }
   ],
   "source": [
    "def truncate_precision(number, precision_bits=24):\n",
    "    # Ensure the input is a positive number\n",
    "    if number < 0:\n",
    "        raise ValueError(\"Input must be a non-negative floating-point number.\")\n",
    "\n",
    "    # Extract integer and fractional parts\n",
    "    integer_part = int(number)\n",
    "    fractional_part = number - integer_part\n",
    "\n",
    "    # Keep only the desired precision bits in the fractional part\n",
    "    precision_mask = (1 << precision_bits) - 1\n",
    "    truncated_fraction = fractional_part & precision_mask\n",
    "\n",
    "    # Combine the integer part and truncated fractional part\n",
    "    result = integer_part + truncated_fraction / (2 ** precision_bits)\n",
    "\n",
    "    return result\n",
    "\n",
    "# Example usage\n",
    "original_number = 3.141592653589793\n",
    "precision_24_bits = truncate_precision(original_number)\n",
    "\n",
    "print(f\"Original number: {original_number}\")\n",
    "print(f\"Number with 24 bits of precision: {precision_24_bits}\")"
   ]
  },
  {
   "cell_type": "code",
   "execution_count": 4,
   "outputs": [
    {
     "data": {
      "text/plain": "(3.141592653589793, 24)"
     },
     "execution_count": 4,
     "metadata": {},
     "output_type": "execute_result"
    }
   ],
   "source": [
    "original_number = 3.141592653589793\n",
    "precision_bits = 24\n",
    "original_number, precision_bits"
   ],
   "metadata": {
    "collapsed": false,
    "ExecuteTime": {
     "end_time": "2023-12-01T04:42:02.121743Z",
     "start_time": "2023-12-01T04:42:02.085460Z"
    }
   },
   "id": "22f067d3c5de5301"
  },
  {
   "cell_type": "code",
   "execution_count": 3,
   "outputs": [
    {
     "data": {
      "text/plain": "(3, 0.14159265358979312)"
     },
     "execution_count": 3,
     "metadata": {},
     "output_type": "execute_result"
    }
   ],
   "source": [
    "integer_part = int(original_number)\n",
    "fractional_part = original_number - integer_part\n",
    "integer_part, fractional_part"
   ],
   "metadata": {
    "collapsed": false,
    "ExecuteTime": {
     "end_time": "2023-12-01T04:41:11.278964Z",
     "start_time": "2023-12-01T04:41:11.189770Z"
    }
   },
   "id": "1d419b1efd77aeee"
  },
  {
   "cell_type": "code",
   "execution_count": 5,
   "outputs": [
    {
     "data": {
      "text/plain": "16777215"
     },
     "execution_count": 5,
     "metadata": {},
     "output_type": "execute_result"
    }
   ],
   "source": [
    "precision_mask = (1 << precision_bits) - 1\n",
    "precision_mask"
   ],
   "metadata": {
    "collapsed": false,
    "ExecuteTime": {
     "end_time": "2023-12-01T04:42:09.237213Z",
     "start_time": "2023-12-01T04:42:09.203706Z"
    }
   },
   "id": "c3aac2346447ded6"
  },
  {
   "cell_type": "code",
   "execution_count": 8,
   "outputs": [
    {
     "data": {
      "text/plain": "0"
     },
     "execution_count": 8,
     "metadata": {},
     "output_type": "execute_result"
    }
   ],
   "source": [
    "2 & 1"
   ],
   "metadata": {
    "collapsed": false,
    "ExecuteTime": {
     "end_time": "2023-12-01T04:45:03.332358Z",
     "start_time": "2023-12-01T04:45:03.308628Z"
    }
   },
   "id": "b08fb51757ef02c5"
  },
  {
   "cell_type": "code",
   "execution_count": null,
   "outputs": [],
   "source": [],
   "metadata": {
    "collapsed": false
   },
   "id": "68d929da38401fa8"
  }
 ],
 "metadata": {
  "kernelspec": {
   "display_name": "Python 3",
   "language": "python",
   "name": "python3"
  },
  "language_info": {
   "codemirror_mode": {
    "name": "ipython",
    "version": 2
   },
   "file_extension": ".py",
   "mimetype": "text/x-python",
   "name": "python",
   "nbconvert_exporter": "python",
   "pygments_lexer": "ipython2",
   "version": "2.7.6"
  }
 },
 "nbformat": 4,
 "nbformat_minor": 5
}

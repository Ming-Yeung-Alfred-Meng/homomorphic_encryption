{
 "cells": [
  {
   "cell_type": "code",
   "execution_count": 19,
   "id": "initial_id",
   "metadata": {
    "collapsed": true,
    "ExecuteTime": {
     "end_time": "2023-12-09T01:09:03.875217Z",
     "start_time": "2023-12-09T01:09:03.754073Z"
    }
   },
   "outputs": [],
   "source": [
    "from typing import Union\n",
    "import numpy as np\n",
    "import random\n",
    "import math\n",
    "\n",
    "\n",
    "def randint(start: int,\n",
    "            stop: int,\n",
    "            step: int = 1,\n",
    "            length: int = 0,\n",
    "            dtype=object) -> Union[int, np.ndarray]:\n",
    "    \"\"\"\n",
    "    Generate an array of random integers from [start, stop).\n",
    "    :param start: start of the sample space (inclusive)\n",
    "    :param stop: end of the sample space (exclusive)\n",
    "    :param step: sample space includes every \"step\" number starting form \"stop\"\n",
    "    :param length: length of the output array. If 0, an int is returned.\n",
    "    :param dtype: dtype of the output array\n",
    "    :return: 1D numpy array of random integers from [start, stop).\n",
    "    \"\"\"\n",
    "    if length == 0:\n",
    "        return random.randrange(start, stop, step)\n",
    "    else:\n",
    "        return np.array([random.randrange(start, stop, step) for _ in range(length)], dtype=dtype)\n",
    "\n",
    "\n",
    "def int2binary_array(integer: int) -> np.ndarray:\n",
    "    \"\"\"\n",
    "    Create a 1D array containing the binary digits of a non-negative integer.\n",
    "    :param integer: non-negative integer of which the binary digits are to store in a 1D array.\n",
    "    :return: 1D array of binary digits.\n",
    "    \"\"\"\n",
    "    assert 0 <= integer\n",
    "    return np.array(list(map(int, bin(integer)[2:])))\n",
    "\n",
    "\n",
    "def binary_array2int(bits) -> int:\n",
    "    \"\"\"\n",
    "    Create an integer from an array containing its binary digits.\n",
    "    :param bits: 1D array of binary digits.\n",
    "    :return: integer \"bits\" represents.\n",
    "    \"\"\"\n",
    "    return int(''.join(map(str, bits)), 2)\n",
    "\n",
    "\n",
    "def key_multiple(num_bits: int,\n",
    "                 length: int) -> Union[int, np.ndarray]:\n",
    "    \"\"\"\n",
    "    Sample q from [0, 2 ** num_bits), where q is intended for the encryption c = qp + 2r + m.\n",
    "    :param num_bits: number of bits of q.\n",
    "    :param length: length of output\n",
    "    :return: an integer if length = 0, a 1D numpy array of shape (length,) if length > 0.\n",
    "    \"\"\"\n",
    "    return randint(0, 2 ** num_bits, length=length)\n",
    "\n",
    "\n",
    "def noise(key: int,\n",
    "          length: int) -> Union[int, np.ndarray]:\n",
    "    \"\"\"\n",
    "    Sample positive noise r, where r is intended for the encryption c = qp + 2r + m. The magnitude of r ensures\n",
    "    homomorphism of addition or multiplication of ciphertexts for at least once.\n",
    "    :param key: encryption key, i.e. p in c = qp + 2r + m\n",
    "    :param length: length of output\n",
    "    :return: an integer if length = 0, a 1D numpy array of shape (length,) if length > 0.\n",
    "    \"\"\"\n",
    "    return randint(0, math.floor((-1 + math.sqrt(key - 1)) / 2), length=length)\n",
    "\n",
    "\n",
    "def key(num_bits: int) -> int:\n",
    "    \"\"\"\n",
    "    Generate an odd num_bits-bit integer from the range [2^{num_bits - 1}, 2^{num_bits}) as private key.\n",
    "    :param num_bits: number of bits of the private key.\n",
    "    :return: an odd integer private key\n",
    "    \"\"\"\n",
    "    return randint(2 ** (num_bits - 1) + 1, 2 ** num_bits, step=2)\n",
    "\n",
    "\n",
    "def encrypt(plaintext: int,\n",
    "            key: int,\n",
    "            q_num_bits: int) -> np.ndarray:\n",
    "    \"\"\"\n",
    "    Encrypt a plaintext as c = qp + 2r + m, where m is a bit in the plaintext, p is a key, q is a factor of p,\n",
    "    r is a noise, and c, an integer, is an encryption of m.\n",
    "    :param plaintext: an integer to encrypt\n",
    "    :param key: an encryption key\n",
    "    :param q_num_bits: number of bits of q\n",
    "    :return: 1D numpy array of encryption of each bit of plaintext\n",
    "    \"\"\"\n",
    "    plaintext_binary = int2binary_array(plaintext)\n",
    "\n",
    "    return (key_multiple(q_num_bits, len(plaintext_binary)) * key\n",
    "            + 2 * noise(key, len(plaintext_binary))\n",
    "            + plaintext_binary)\n",
    "\n",
    "\n",
    "def decrypt(ciphertext: np.ndarray,\n",
    "            key: int) -> int:\n",
    "    \"\"\"\n",
    "    Decrypt.\n",
    "    :param ciphertext: 1D numpy array of encryption of each bit of plaintext\n",
    "    :param key: encryption key\n",
    "    :return: plaintext as an integer\n",
    "    \"\"\"\n",
    "    plaintext_binary = ciphertext % key % 2\n",
    "    return binary_array2int(plaintext_binary)\n"
   ]
  },
  {
   "cell_type": "markdown",
   "source": [
    "## Settings\n",
    "\n",
    "For simplicity assumes plaintexts have a fixed number of bits.\n",
    "\n",
    "Please feel free to change the settings below, just make sure they are not too small."
   ],
   "metadata": {
    "collapsed": false
   },
   "id": "cc17f0c7cd0ff9fa"
  },
  {
   "cell_type": "code",
   "execution_count": 20,
   "outputs": [],
   "source": [
    "key_num_bits = 5\n",
    "factor_num_bits = 5\n",
    "plaintext_num_bits = 5"
   ],
   "metadata": {
    "collapsed": false,
    "ExecuteTime": {
     "end_time": "2023-12-09T01:09:03.905472Z",
     "start_time": "2023-12-09T01:09:03.804887Z"
    }
   },
   "id": "82f0c3fcdbd8f574"
  },
  {
   "cell_type": "markdown",
   "source": [
    "## Generate Random Key and Plaintexts\n",
    "\n",
    "Key is a random odd integer from $[2^{key\\_num\\_bits - 1}, 2^{key\\_num\\_bits})$\n",
    "\n",
    "Plaintexts are random integers from $[2^{plaintext\\_num\\_bits - 1}, 2^{plaintext\\_num\\_bits})$"
   ],
   "metadata": {
    "collapsed": false
   },
   "id": "76aa45159dc1dab7"
  },
  {
   "cell_type": "code",
   "execution_count": 21,
   "outputs": [
    {
     "name": "stdout",
     "output_type": "stream",
     "text": [
      "Key is:\n",
      "\t base 10: 25\n",
      "\t base 2: 11001\n",
      "\n",
      "Plaintext p0:\n",
      "\t base 10: 23\n",
      "\t base 2: 10111\n",
      "Plaintext p1:\n",
      "\t base 10: 18\n",
      "\t base 2: 10010\n"
     ]
    }
   ],
   "source": [
    "k = key(key_num_bits)\n",
    "p0 = random.randint(2 ** (plaintext_num_bits - 1), 2 ** plaintext_num_bits)\n",
    "p1 = random.randint(2 ** (plaintext_num_bits - 1), 2 ** plaintext_num_bits) \n",
    "\n",
    "print(f\"Key is:\\n\"\n",
    "      f\"\\t base 10: {k}\\n\"\n",
    "      f\"\\t base 2: {bin(k)[2:]}\\n\")\n",
    "\n",
    "print(f\"Plaintext p0:\\n\"\n",
    "      f\"\\t base 10: {p0}\\n\"\n",
    "      f\"\\t base 2: {bin(p0)[2:]}\\n\"\n",
    "      f\"Plaintext p1:\\n\"\n",
    "      f\"\\t base 10: {p1}\\n\"\n",
    "      f\"\\t base 2: {bin(p1)[2:]}\\n\")"
   ],
   "metadata": {
    "collapsed": false,
    "ExecuteTime": {
     "end_time": "2023-12-09T01:09:03.907724Z",
     "start_time": "2023-12-09T01:09:03.830509Z"
    }
   },
   "id": "5566c16304fea2ab"
  },
  {
   "cell_type": "markdown",
   "source": [
    "## Encryption\n",
    "\n",
    "$$\n",
    "ciphertext = factor \\times key + 2 \\times noise + plaintext\\_bit\n",
    "$$"
   ],
   "metadata": {
    "collapsed": false
   },
   "id": "8db8a6d65d7a1f79"
  },
  {
   "cell_type": "code",
   "execution_count": 22,
   "outputs": [
    {
     "name": "stdout",
     "output_type": "stream",
     "text": [
      "Ciphertext c0:\n",
      "\t base 10: [576 300 326 426 251]\n",
      "Ciphertext c1:\n",
      "\t base 10: [426 375 325 151 425]\n"
     ]
    }
   ],
   "source": [
    "c0 = encrypt(p0, k, factor_num_bits)\n",
    "c1 = encrypt(p1, k, factor_num_bits)\n",
    "\n",
    "print(f\"Ciphertext c0:\\n\"\n",
    "      f\"\\t base 10: {c0}\\n\"\n",
    "      f\"Ciphertext c1:\\n\"\n",
    "      f\"\\t base 10: {c1}\\n\")"
   ],
   "metadata": {
    "collapsed": false,
    "ExecuteTime": {
     "end_time": "2023-12-09T01:09:03.922666Z",
     "start_time": "2023-12-09T01:09:03.840475Z"
    }
   },
   "id": "e792fee188f0324c"
  },
  {
   "cell_type": "markdown",
   "source": [
    "## Computation in Ciphertext Space\n",
    "\n",
    "$$\n",
    "D(E(p_0) + E(p_1)) = p_0 \\oplus p_1 \\\\\n",
    "D(E(p_0) \\times E(p_1)) = p_0 \\wedge p_1\n",
    "$$\n",
    "\n"
   ],
   "metadata": {
    "collapsed": false
   },
   "id": "e9d2832466e6ee82"
  },
  {
   "cell_type": "code",
   "execution_count": 23,
   "outputs": [
    {
     "name": "stdout",
     "output_type": "stream",
     "text": [
      "c0 + c1:\n",
      "\t base 10: [1002 675 651 577 676]\n",
      "c0 * c1:\n",
      "\t base 10: [245376 112500 105950 64326 106675]\n"
     ]
    }
   ],
   "source": [
    "c_sum = c0 + c1\n",
    "c_product = c0 * c1\n",
    "\n",
    "print(f\"c0 + c1:\\n\"\n",
    "      f\"\\t base 10: {c_sum}\\n\"\n",
    "      f\"c0 * c1:\\n\"\n",
    "      f\"\\t base 10: {c_product}\\n\")"
   ],
   "metadata": {
    "collapsed": false,
    "ExecuteTime": {
     "end_time": "2023-12-09T01:09:03.922946Z",
     "start_time": "2023-12-09T01:09:03.850869Z"
    }
   },
   "id": "7f5c169d4c6ad59e"
  },
  {
   "cell_type": "markdown",
   "source": [
    "## Decryption"
   ],
   "metadata": {
    "collapsed": false
   },
   "id": "c227d53422d4ed53"
  },
  {
   "cell_type": "code",
   "execution_count": 24,
   "outputs": [
    {
     "name": "stdout",
     "output_type": "stream",
     "text": [
      "Original plaintexts:\n",
      "\tp0 = 10111\n",
      "\tp1 = 10010:\n",
      "Decryption results:\n",
      "\tDecrypt(c0) = 10111\n",
      "\tDecrypt(c1) = 10010\n",
      "\tDecrypt(c0 + c1) = 00101 = p0 xor p1\n",
      "\tDecrypt(c0 * c1) = 10010 = p0 and p1\n"
     ]
    }
   ],
   "source": [
    "decrypted_c0 = decrypt(c0, k)\n",
    "decrypted_c1 = decrypt(c1, k)\n",
    "decrypted_sum = decrypt(c_sum, k)\n",
    "decrypted_product = decrypt(c_product, k)\n",
    "\n",
    "print(f\"Original plaintexts:\\n\"\n",
    "      f\"\\tp0 = {bin(p0)[2:]}\\n\"\n",
    "      f\"\\tp1 = {bin(p1)[2:]}:\\n\"\n",
    "      f\"Decryption results:\\n\"\n",
    "      f\"\\tDecrypt(c0) = {bin(decrypted_c0)[2:]}\\n\"\n",
    "      f\"\\tDecrypt(c1) = {bin(decrypted_c1)[2:]}\\n\"\n",
    "      f\"\\tDecrypt(c0 + c1) = {(bin(decrypted_sum)[2:]).zfill(plaintext_num_bits)} = p0 xor p1\\n\"\n",
    "      f\"\\tDecrypt(c0 * c1) = {(bin(decrypted_product)[2:]).zfill(plaintext_num_bits)} = p0 and p1\")"
   ],
   "metadata": {
    "collapsed": false,
    "ExecuteTime": {
     "end_time": "2023-12-09T01:09:03.923706Z",
     "start_time": "2023-12-09T01:09:03.864913Z"
    }
   },
   "id": "7c873504e4fb428f"
  },
  {
   "cell_type": "code",
   "execution_count": 24,
   "outputs": [],
   "source": [],
   "metadata": {
    "collapsed": false,
    "ExecuteTime": {
     "end_time": "2023-12-09T01:09:03.924570Z",
     "start_time": "2023-12-09T01:09:03.877012Z"
    }
   },
   "id": "f82bb7f972091521"
  }
 ],
 "metadata": {
  "kernelspec": {
   "display_name": "Python 3",
   "language": "python",
   "name": "python3"
  },
  "language_info": {
   "codemirror_mode": {
    "name": "ipython",
    "version": 2
   },
   "file_extension": ".py",
   "mimetype": "text/x-python",
   "name": "python",
   "nbconvert_exporter": "python",
   "pygments_lexer": "ipython2",
   "version": "2.7.6"
  }
 },
 "nbformat": 4,
 "nbformat_minor": 5
}
